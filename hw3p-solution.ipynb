{
 "cells": [
  {
   "cell_type": "markdown",
   "metadata": {},
   "source": [
    "# Max Flow Applications\n",
    "\n",
    "The purpose of this assignment is to investigate applications of finding a Max Flow. The problem asks you to design and implement an algorithm for shipping a material between nodes with different supply and demand requirements.\n",
    "\n",
    "* Please write code *only* in the bodies of the two functions, that is, following the TODO comments.\n",
    "* Be careful not to use varibles defined outside of the functions.\n",
    "* Breaking the two above rules may lead to 0 grades."
   ]
  },
  {
   "cell_type": "markdown",
   "metadata": {},
   "source": [
    "## Movie distribution\n",
    "\n",
    "First solve Problem 1 from hw3-t. \n",
    "\n",
    "Now suppose a movie distributor would like to ship a copy of a film from CA to every other state. There are therefore 48 units to ship out of CA, and each other state receives 1 unit. \n",
    "\n",
    "The dataset contiguous-usa.dat lists the adjacent states in the US. Each line lists two adjacent states; thus AK and HI are omitted, but DC is included in the data. The following code reads in the graph of US states."
   ]
  },
  {
   "cell_type": "code",
   "execution_count": 7,
   "metadata": {},
   "outputs": [],
   "source": [
    "import networkx as nx\n",
    "G = nx.Graph()\n",
    "\n",
    "usa = open('contiguous-usa.dat')\n",
    "for line in usa:\n",
    "    s1, s2 = line.strip().split()\n",
    "    G.add_edge(s1, s2)"
   ]
  },
  {
   "cell_type": "markdown",
   "metadata": {},
   "source": [
    "We now encode the demands into the graph."
   ]
  },
  {
   "cell_type": "code",
   "execution_count": 8,
   "metadata": {
    "collapsed": true
   },
   "outputs": [],
   "source": [
    "for state in G.nodes():\n",
    "    if state != 'CA':\n",
    "        G.node[state]['demand'] = 1\n",
    "G.node['CA']['demand'] = -48"
   ]
  },
  {
   "cell_type": "markdown",
   "metadata": {},
   "source": [
    "We will assign a uniform capacity of 16 to each edge. Since CA has only three adjacent states, this is the smallest possible uniform capacity that allows one to ship all 48 units out of CA. As we have created an undirected graph, and flows have directions, we first convert the graph to a directed graph."
   ]
  },
  {
   "cell_type": "code",
   "execution_count": 9,
   "metadata": {},
   "outputs": [],
   "source": [
    "G = nx.DiGraph(G)\n",
    "uniform_capacity = 16\n",
    "for (s1, s2) in G.edges():\n",
    "    G.edge[s1][s2]['capacity'] = uniform_capacity"
   ]
  },
  {
   "cell_type": "markdown",
   "metadata": {},
   "source": [
    "Complete the following function to implement your algorithm to find a flow with demands. Your function should work correctly for any input, not just the movie instance considered here. As always, you are encouraged to define auxiliary functions as needed for clarity."
   ]
  },
  {
   "cell_type": "code",
   "execution_count": 10,
   "metadata": {
    "collapsed": true
   },
   "outputs": [],
   "source": [
    "def flow_with_demands(graph):\n",
    "    \"\"\"Computes a flow with demands over the given graph.\n",
    "    \n",
    "    Args:\n",
    "        graph: A directed graph with nodes annotated with 'demand' properties and edges annotated with 'capacity' \n",
    "            properties.\n",
    "        \n",
    "    Returns:\n",
    "        A dict of dicts containing the flow on each edge. For instance, flow[s1][s2] should provide the flow along\n",
    "        edge (s1, s2).\n",
    "        \n",
    "    Raises:\n",
    "        NetworkXUnfeasible: An error is thrown if there is no flow satisfying the demands.\n",
    "    \"\"\"\n",
    "    # TODO: Implement the function.\n",
    "    G = graph\n",
    "    G.add_node('sink')\n",
    "    for state in G.nodes():\n",
    "        if state != 'CA' and state != 'sink':\n",
    "            G.add_edge(state, 'sink')\n",
    "            G.add_edge('sink', state)\n",
    "            G.edge[state]['sink']['capacity'] = 1\n",
    "            G.edge['sink'][state]['capacity'] = 0\n",
    "    \n",
    "    for (s1,s2) in G.edges():\n",
    "        G.edge[s1][s2]['flow'] = 0\n",
    "    \n",
    "    def search(graph, s, t):\n",
    "        for node in graph.nodes():\n",
    "            graph.node[node]['discovered'] = 0\n",
    "            graph.node[node]['parent'] = 'NIL'\n",
    "        queue = [s]\n",
    "        graph.node[s]['discovered'] = 1\n",
    "        while len(queue) > 0:\n",
    "            u = queue.pop(0)\n",
    "            for v in graph.edge[u]:\n",
    "                if graph.node[v]['discovered'] == 0 and graph.edge[u][v]['capacity'] != 0:\n",
    "                    graph.node[v]['discovered'] = 1\n",
    "                    graph.node[v]['parent'] = u\n",
    "                    queue.append(v)\n",
    "        return graph.node[t]['discovered']\n",
    "    \n",
    "    flow_max = 0\n",
    "    while search(G, 'CA', 'sink') ==1:\n",
    "        j = 'sink'\n",
    "        while j != 'CA':\n",
    "            i = G.node[j]['parent']\n",
    "            G.edge[i][j]['flow'] += 1\n",
    "            G.edge[i][j]['capacity'] -= 1\n",
    "            G.edge[j][i]['capacity'] += 1\n",
    "            j = G.node[j]['parent']\n",
    "        flow_max += 1\n",
    "        \n",
    "    if flow_max != abs(G.node['CA']['demand']):\n",
    "        raise nx.NetworkXUnfeasible(\"There Is No Flow Satisfying The Demands\")\n",
    "        \n",
    "    for node in G.nodes():\n",
    "        if node != 'CA' and node != 'sink':\n",
    "            G.edge[node]['sink']['flow'] = 0\n",
    "            \n",
    "    for (s1, s2) in G.edges():\n",
    "        del G[s1][s2]['capacity']\n",
    "        \n",
    "    return G"
   ]
  },
  {
   "cell_type": "markdown",
   "metadata": {},
   "source": [
    "To verify that your solution is correct, implement a function that computes the total flow into each node (which will be negative for supply nodes)."
   ]
  },
  {
   "cell_type": "code",
   "execution_count": 11,
   "metadata": {
    "collapsed": true
   },
   "outputs": [],
   "source": [
    "def divergence(flow):\n",
    "    \"\"\"Computes the total flow into each node according to the given flow dict.\n",
    "    \n",
    "    Args:\n",
    "        flow: the flow dict recording flow between nodes.\n",
    "        \n",
    "    Returns:\n",
    "        A dict of the net flow into each node.\n",
    "    \"\"\"\n",
    "    # TODO: Implement the function.\n",
    "    divrg = {}\n",
    "    for state in G.nodes():\n",
    "        divrg[state] = 0\n",
    "    \n",
    "    for (s1,s2) in flow.edges():\n",
    "        divrg[s1] -= flow[s1][s2]['flow']\n",
    "        divrg[s2] += flow[s1][s2]['flow']\n",
    "    \n",
    "    del divrg['sink']\n",
    "    del G.node['sink']\n",
    "    \n",
    "    return divrg"
   ]
  },
  {
   "cell_type": "markdown",
   "metadata": {},
   "source": [
    "The following code performs a sanity check on your function (but does not completely confirm correctness)."
   ]
  },
  {
   "cell_type": "code",
   "execution_count": 12,
   "metadata": {},
   "outputs": [
    {
     "name": "stdout",
     "output_type": "stream",
     "text": [
      "Flow satisfies all demands: True\n"
     ]
    }
   ],
   "source": [
    "flow = flow_with_demands(G)\n",
    "div = divergence(flow)\n",
    "print \"Flow satisfies all demands:\", all(div[n] == G.node[n]['demand'] for n in G.nodes())"
   ]
  },
  {
   "cell_type": "code",
   "execution_count": null,
   "metadata": {
    "collapsed": true
   },
   "outputs": [],
   "source": []
  }
 ],
 "metadata": {
  "kernelspec": {
   "display_name": "Python 3",
   "language": "python",
   "name": "python3"
  },
  "language_info": {
   "codemirror_mode": {
    "name": "ipython",
    "version": 3
   },
   "file_extension": ".py",
   "mimetype": "text/x-python",
   "name": "python",
   "nbconvert_exporter": "python",
   "pygments_lexer": "ipython3",
   "version": "3.6.1"
  }
 },
 "nbformat": 4,
 "nbformat_minor": 1
}
