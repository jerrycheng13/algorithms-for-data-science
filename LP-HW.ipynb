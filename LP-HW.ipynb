{
 "cells": [
  {
   "cell_type": "markdown",
   "metadata": {},
   "source": [
    "# Generalizations of Max-Flow\n",
    "\n",
    "The purpose of this assignment is to learn about the min-cost flow problem, a generalization of max-flow, and to familiarize yourself with implementing and solving linear programs."
   ]
  },
  {
   "cell_type": "markdown",
   "metadata": {},
   "source": [
    "## Min-Cost Flow\n",
    "\n",
    "Recall that a flow network with demands consists of a directed graph $G = (V, E)$, where each edge $(i,j) \\in E$ has a positive integer capacity $c_{ij}$ and each node $i \\in V$ has an integer demand $d_i$. In a *min-cost flow* problem, each edge $(i,j) \\in E$ also has a cost (or weight) $w_{ij}$. (Note that this input generalizes the input to two important problems we discussed so far: in max flow, the edge weights were not important while in shortest paths, the edge capacities were not important.) \n",
    "\n",
    "Given a flow network with capacities and costs, the goal is to find a *feasible* flow $f: E \\rightarrow R^+$ --that is, a flow satisfying edge capacity constraints and node demands-- that minimizes the total cost of the flow. Explicitly, the problem can be formulated as a linear program."
   ]
  },
  {
   "cell_type": "markdown",
   "metadata": {},
   "source": [
    "### Question 1\n",
    "\n",
    "Answer Problem 1 in HW4-theoretical."
   ]
  },
  {
   "cell_type": "markdown",
   "metadata": {},
   "source": [
    "### Question 2\n",
    "\n",
    "To implement your reduction from Problem 1 in HW4-theoretical, you will work with some standard benchmark instances for min-cost flow found [here](http://elib.zib.de/pub/mp-testdata/mincost/gte/index.html). The format of the data is described in the [Info](http://elib.zib.de/pub/mp-testdata/mincost/gte/info) file. You are to read in the graph from the data file in a form that can be solved using NetworkX's `min_cost_flow` function. Note that the data sometimes lists multiple edges between the same nodes, but with different costs or capacities. In forming the graph, you need to implement your reduction from the previous question and form a `DiGraph` instance, because the `min_cost_flow` function cannot handle multi-edges, even though the package offers `MultiDiGraph` objects."
   ]
  },
  {
   "cell_type": "code",
   "execution_count": 1,
   "metadata": {
    "collapsed": true
   },
   "outputs": [],
   "source": [
    "import networkx as nx\n",
    "\n",
    "def create_graph(infile):\n",
    "    \"\"\"Creates a directed graph as specified by the input file. Edges are annotated with 'capacity'\n",
    "    and 'weight' attributes, and nodes are annotated with 'demand' attributes.\n",
    "    \n",
    "    Args:\n",
    "        infile: the input file using the format to specify a min-cost flow problem.\n",
    "        \n",
    "    Returns:\n",
    "        A directed graph (but not a multi-graph) with edges annotated with 'capacity' and 'weight' attributes\n",
    "        and nodes annotated with 'demand' attributes.\n",
    "    \"\"\"\n",
    "    # TODO: implement function\n",
    "    # read file\n",
    "    edges = dict()\n",
    "    demand = dict()\n",
    "    for row in open(infile):\n",
    "        row = row.strip().split(' ')\n",
    "        if row[0] == 'p':\n",
    "            n_nodes = int(row[2])\n",
    "        if row[0] == 'n':\n",
    "            demand[int(row[1])] = int(row[2])\n",
    "        if row[0] == 'a':\n",
    "            edge = (int(row[1]), int(row[2]))\n",
    "            if edge in edges.keys():\n",
    "                edges[edge]['capacity'].append(int(row[4]))\n",
    "                edges[edge]['weight'].append(int(row[5]))               \n",
    "            else:\n",
    "                attr = dict()\n",
    "                attr['capacity'] = [int(row[4])]\n",
    "                attr['weight'] = [int(row[5])]\n",
    "                edges[edge] = attr\n",
    "    # add new nodes to solve multi-edges problems        \n",
    "    for edge in edges.keys():\n",
    "        if len(edges[edge]['capacity']) > 1:\n",
    "            for i in range(len(edges[edge]['capacity'])):\n",
    "                n_nodes += 1\n",
    "    # add a node between one edge, then add a new edge             \n",
    "                edge1 = (edge[0],n_nodes)\n",
    "                attr = dict()\n",
    "                attr['capacity'] = edges[edge]['capacity'][i]\n",
    "                attr['weight'] = 1/2. * edges[edge]['weight'][i]\n",
    "                edges[edge1] = attr\n",
    "    # add another edge            \n",
    "                edge2 = (n_nodes, edge[1])\n",
    "                attr = dict()\n",
    "                attr['capacity'] = edges[edge]['capacity'][i]\n",
    "                attr['weight'] = 1/2. * edges[edge]['weight'][i]\n",
    "                edges[edge2] = attr\n",
    "    # delete the original edge\n",
    "            del edges[edge]\n",
    "            \n",
    "    G = nx.DiGraph()\n",
    "\n",
    "    for edge in edges.keys():\n",
    "        G.add_edge(edge[0], edge[1])\n",
    "    for (u, v) in G.edges():\n",
    "        G.edge[u][v]['capacity'] = edges[(u, v)]['capacity']\n",
    "        G.edge[u][v]['weight'] = edges[(u, v)]['weight']\n",
    "    for node in demand:\n",
    "        G.node[node]['demand'] = demand[node]   \n",
    "    \n",
    "    return G\n",
    "    \n",
    "    pass"
   ]
  },
  {
   "cell_type": "markdown",
   "metadata": {},
   "source": [
    "The following will check that your code outputs the expected min cost flow values on several test instances."
   ]
  },
  {
   "cell_type": "code",
   "execution_count": 2,
   "metadata": {},
   "outputs": [
    {
     "name": "stdout",
     "output_type": "stream",
     "text": [
      "Correct value for _40 instance: True\n",
      "Correct value for _6830 instance: True\n",
      "Correct value for _176280 instance: True\n"
     ]
    }
   ],
   "source": [
    "G_40 = create_graph('gte_bad.40')\n",
    "G_6830 = create_graph('gte_bad.6830')\n",
    "G_176280 = create_graph('gte_bad.176280')\n",
    "\n",
    "print \"Correct value for _40 instance:\", nx.min_cost_flow_cost(G_40) == 52099553858\n",
    "print \"Correct value for _6830 instance:\", nx.min_cost_flow_cost(G_6830) == 299390431788\n",
    "print \"Correct value for _176280 instance:\", nx.min_cost_flow_cost(G_176280) == 510585093810"
   ]
  },
  {
   "cell_type": "markdown",
   "metadata": {},
   "source": [
    "## Linear Programming\n",
    "\n",
    "Instead of using special-purpose min-cost flow solvers, you will now formulate the problems as linear programs and use general-purpose LP solvers to find the solutions."
   ]
  },
  {
   "cell_type": "markdown",
   "metadata": {},
   "source": [
    "### Question 3\n",
    "\n",
    "Implement the following function to formulate the flow LP and return the optimal value (i.e., minimum cost over feasible flows)."
   ]
  },
  {
   "cell_type": "code",
   "execution_count": 7,
   "metadata": {
    "collapsed": true
   },
   "outputs": [],
   "source": [
    "import pulp\n",
    "\n",
    "def lp_flow_value(G):\n",
    "    \"\"\"Computes the value of the minimum cost flow by formulating and solving\n",
    "    the problem as an LP.\n",
    "    \n",
    "    Args:\n",
    "        G: a directed graph with edges annotated with 'capacity' and 'weight'\n",
    "            attrbutes, and nodes annotated with 'demand' attributes.\n",
    "            \n",
    "    Returns:\n",
    "        The value of the minimum cost flow.\n",
    "    \"\"\"\n",
    "    # TODO: implement function\n",
    "    Prob = pulp.LpProblem(\"minimum_cost_flow\", pulp.LpMinimize)\n",
    "    cost = dict()\n",
    "\n",
    "    for edge in G.edges():\n",
    "        cost[str(edge)] = G.get_edge_data(edge[0], edge[1])['weight']\n",
    "\n",
    "    flow = pulp.LpVariable.dict(\"flow\", [str(edge) for edge in G.edges()], 0)\n",
    "\n",
    "    for edge in G.edges():\n",
    "        Prob += flow[str(edge)] <= G.get_edge_data(edge[0], edge[1])['capacity']\n",
    "\n",
    "    for node in G.nodes():\n",
    "        if G.node[node] == {}:\n",
    "            demand = 0\n",
    "        else:\n",
    "            demand = G.node[node]['demand']     \n",
    "        f_in = []\n",
    "        f_out = []\n",
    "        for edge in G.edges():\n",
    "            if node == edge[1]:\n",
    "                f_in.append(flow[str(edge)])\n",
    "            if node == edge[0]:\n",
    "                f_out.append(flow[str(edge)])            \n",
    "        Prob += pulp.lpSum(f_in) - pulp.lpSum(f_out) == demand\n",
    "\n",
    "    Prob += pulp.lpSum([cost[str((u,v))]*flow[str((u,v))] for (u,v) in G.edges()])\n",
    "    status = Prob.solve()\n",
    "    \n",
    "    return int(pulp.value(Prob.objective))    \n",
    "    \n",
    "    pass"
   ]
  },
  {
   "cell_type": "markdown",
   "metadata": {},
   "source": [
    "The following will check that the LP finds the same optimal values as previously."
   ]
  },
  {
   "cell_type": "code",
   "execution_count": 8,
   "metadata": {},
   "outputs": [
    {
     "name": "stdout",
     "output_type": "stream",
     "text": [
      "Correct value for _40 instance: True\n",
      "Correct value for _6830 instance: True\n",
      "Correct value for _176280 instance: True\n"
     ]
    }
   ],
   "source": [
    "print \"Correct value for _40 instance:\", lp_flow_value(G_40) == 52099553858\n",
    "print \"Correct value for _6830 instance:\", lp_flow_value(G_6830) == 299390431788\n",
    "print \"Correct value for _176280 instance:\", lp_flow_value(G_176280) == 510585093810"
   ]
  },
  {
   "cell_type": "code",
   "execution_count": null,
   "metadata": {
    "collapsed": true
   },
   "outputs": [],
   "source": []
  }
 ],
 "metadata": {
  "kernelspec": {
   "display_name": "Python 3",
   "language": "python",
   "name": "python3"
  },
  "language_info": {
   "codemirror_mode": {
    "name": "ipython",
    "version": 3
   },
   "file_extension": ".py",
   "mimetype": "text/x-python",
   "name": "python",
   "nbconvert_exporter": "python",
   "pygments_lexer": "ipython3",
   "version": "3.6.1"
  }
 },
 "nbformat": 4,
 "nbformat_minor": 1
}
